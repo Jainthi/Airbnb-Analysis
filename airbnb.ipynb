{
 "cells": [
  {
   "cell_type": "markdown",
   "id": "3e229210-d41a-46a9-8e61-b9e19b299020",
   "metadata": {},
   "source": [
    "Airbnb Analysis"
   ]
  },
  {
   "cell_type": "code",
   "execution_count": 2,
   "id": "fb563db3-a188-424d-bfdd-4f2fc4c59b01",
   "metadata": {},
   "outputs": [],
   "source": [
    "import pymongo\n",
    "import pandas as pd\n",
    "import warnings\n",
    "warnings.filterwarnings(\"ignore\")"
   ]
  },
  {
   "cell_type": "code",
   "execution_count": 3,
   "id": "5eb83a99-7741-443b-b631-24bbbc373fd3",
   "metadata": {},
   "outputs": [],
   "source": [
    "Client= pymongo.MongoClient(\"mongodb://localhost:27017/\")\n",
    "\n",
    "db= Client[\"sample_airbnb\"]\n",
    "coll= db[\"listingsAndReviews\"]"
   ]
  },
  {
   "cell_type": "code",
   "execution_count": 4,
   "id": "6adb5f32-6348-4d72-8d0b-35c40f97f25f",
   "metadata": {},
   "outputs": [],
   "source": [
    "data=[]\n",
    "for i in coll.find({},{\"_id\":1, \"listing_url\":1, \"name\":1, \"property_type\":1, \"room_type\":1, \"bed_type\":1, \"minimum_nights\":1, \"maximum_nights\":1,\n",
    "                       \"cancellation_policy\":1, \"accommodates\":1, \"bedrooms\":1, \"beds\":1, \"number_of_reviews\":1, \"bathrooms\":1 ,\n",
    "                     \"price\":1, \"cleaning_fee\":1, \"extra_people\":1, \"guests_included\":1, \"review_scores.review_scores_rating\":1}):\n",
    "    data.append(i)"
   ]
  },
  {
   "cell_type": "code",
   "execution_count": 5,
   "id": "28bb08c1-d52b-4893-b592-4e8305b7b1bb",
   "metadata": {},
   "outputs": [],
   "source": [
    "df1=pd.DataFrame(data)"
   ]
  },
  {
   "cell_type": "code",
   "execution_count": 6,
   "id": "0ca215b0-bd3f-47fd-9e41-4906b5b3ea77",
   "metadata": {},
   "outputs": [],
   "source": [
    "data2=[]\n",
    "for i in coll.find({}, {\"_id\":1, \"amenities\":1}):\n",
    "    data2.append(i)"
   ]
  },
  {
   "cell_type": "code",
   "execution_count": 7,
   "id": "71679366-0936-42cc-bac3-400909510662",
   "metadata": {},
   "outputs": [
    {
     "data": {
      "text/html": [
       "<div>\n",
       "<style scoped>\n",
       "    .dataframe tbody tr th:only-of-type {\n",
       "        vertical-align: middle;\n",
       "    }\n",
       "\n",
       "    .dataframe tbody tr th {\n",
       "        vertical-align: top;\n",
       "    }\n",
       "\n",
       "    .dataframe thead th {\n",
       "        text-align: right;\n",
       "    }\n",
       "</style>\n",
       "<table border=\"1\" class=\"dataframe\">\n",
       "  <thead>\n",
       "    <tr style=\"text-align: right;\">\n",
       "      <th></th>\n",
       "      <th>_id</th>\n",
       "      <th>amenities</th>\n",
       "    </tr>\n",
       "  </thead>\n",
       "  <tbody>\n",
       "    <tr>\n",
       "      <th>0</th>\n",
       "      <td>1003530</td>\n",
       "      <td>[Internet, Wifi, Air conditioning, Kitchen, El...</td>\n",
       "    </tr>\n",
       "    <tr>\n",
       "      <th>1</th>\n",
       "      <td>10133554</td>\n",
       "      <td>[Internet, Wifi, Air conditioning, Free parkin...</td>\n",
       "    </tr>\n",
       "    <tr>\n",
       "      <th>2</th>\n",
       "      <td>10059872</td>\n",
       "      <td>[Air conditioning, Kitchen, Smoking allowed, D...</td>\n",
       "    </tr>\n",
       "    <tr>\n",
       "      <th>3</th>\n",
       "      <td>10084023</td>\n",
       "      <td>[TV, Wifi, Air conditioning, Kitchen, Elevator...</td>\n",
       "    </tr>\n",
       "    <tr>\n",
       "      <th>4</th>\n",
       "      <td>10091713</td>\n",
       "      <td>[TV, Wifi, Kitchen, Elevator, Heating, Washer,...</td>\n",
       "    </tr>\n",
       "  </tbody>\n",
       "</table>\n",
       "</div>"
      ],
      "text/plain": [
       "        _id                                          amenities\n",
       "0   1003530  [Internet, Wifi, Air conditioning, Kitchen, El...\n",
       "1  10133554  [Internet, Wifi, Air conditioning, Free parkin...\n",
       "2  10059872  [Air conditioning, Kitchen, Smoking allowed, D...\n",
       "3  10084023  [TV, Wifi, Air conditioning, Kitchen, Elevator...\n",
       "4  10091713  [TV, Wifi, Kitchen, Elevator, Heating, Washer,..."
      ]
     },
     "execution_count": 7,
     "metadata": {},
     "output_type": "execute_result"
    }
   ],
   "source": [
    "df2=pd.DataFrame(data2)\n",
    "df2.head()"
   ]
  },
  {
   "cell_type": "code",
   "execution_count": 8,
   "id": "81acc56e-9130-42af-9a99-e915f7a871a2",
   "metadata": {},
   "outputs": [],
   "source": [
    "data3=[]\n",
    "for i in coll.find({}, {\"_id\":1, \"host\":1}):\n",
    "    data3.append(i)\n",
    "    "
   ]
  },
  {
   "cell_type": "code",
   "execution_count": 9,
   "id": "660561f9-45ca-461e-a20a-5bea7b0953cf",
   "metadata": {},
   "outputs": [],
   "source": [
    "df3=pd.DataFrame(data3)"
   ]
  },
  {
   "cell_type": "code",
   "execution_count": 10,
   "id": "c307f374-7675-4cdb-b862-c08f15a2afe8",
   "metadata": {},
   "outputs": [],
   "source": [
    "host_details={\"_id\":[],\"host_id\":[], \"host_url\":[], \"host_name\":[], \"host_location\":[], \"host_response_time\":[], \"host_neighbourhood\":[],\n",
    "              \"host_response_rate\":[], \"host_is_superhost\":[], \"host_identity_verified\":[], \"host_listings_count\":[], \n",
    "              \"host_total_listings_count\":[], \"host_verifications\":[] }\n",
    "\n",
    "for i in df3[\"_id\"]:\n",
    "    host_details[\"_id\"].append(i)\n",
    "\n",
    "for i in df3[\"host\"]:\n",
    "    host_details[\"host_id\"].append(i[\"host_id\"])\n",
    "    host_details[\"host_url\"].append(i[\"host_url\"])\n",
    "    host_details[\"host_name\"].append(i[\"host_name\"])\n",
    "    host_details[\"host_location\"].append(i[\"host_location\"])\n",
    "    host_details[\"host_response_time\"].append(i.get(\"host_response_time\"))\n",
    "    host_details[\"host_neighbourhood\"].append(i.get(\"host_neighbourhood\"))\n",
    "    host_details[\"host_response_rate\"].append(i.get(\"host_response_rate\"))\n",
    "    host_details[\"host_is_superhost\"].append(i[\"host_is_superhost\"])\n",
    "    host_details[\"host_identity_verified\"].append(i[\"host_identity_verified\"])\n",
    "    host_details[\"host_listings_count\"].append(i[\"host_listings_count\"])\n",
    "    host_details[\"host_total_listings_count\"].append(i[\"host_total_listings_count\"])\n",
    "    host_details[\"host_verifications\"].append(i[\"host_verifications\"])"
   ]
  },
  {
   "cell_type": "code",
   "execution_count": 11,
   "id": "f2126b28-1862-4abb-b130-74a088d47a2e",
   "metadata": {},
   "outputs": [],
   "source": [
    "df_host=pd.DataFrame(host_details)"
   ]
  },
  {
   "cell_type": "code",
   "execution_count": 12,
   "id": "4b7e5647-0094-43ab-8e44-485e1b7e0c9e",
   "metadata": {},
   "outputs": [],
   "source": [
    "data4=[]\n",
    "for i in coll.find({}, {\"_id\":1, \"address\":1}):\n",
    "    data4.append(i)"
   ]
  },
  {
   "cell_type": "code",
   "execution_count": 13,
   "id": "c4e45d88-0fc5-4588-bfd6-f2933185bf62",
   "metadata": {},
   "outputs": [],
   "source": [
    "df4=pd.DataFrame(data4)"
   ]
  },
  {
   "cell_type": "code",
   "execution_count": 14,
   "id": "86cb4de2-c616-45f9-9d39-6cdbce98ea63",
   "metadata": {},
   "outputs": [],
   "source": [
    "address_details={\"_id\":[], \"street\":[], \"suburb\":[], \"government_area\":[], \"market\":[], \"country\":[], \"country_code\":[], \"location_type\":[], \n",
    "                 \"longitude\":[],\"lattitude\":[], \"is_location_exact\":[]}\n",
    "\n",
    "for i in df4[\"_id\"]:\n",
    "    address_details[\"_id\"].append(i)\n",
    "    \n",
    "for i in df4[\"address\"]:\n",
    "    address_details[\"street\"].append(i[\"street\"])\n",
    "    address_details[\"suburb\"].append(i[\"suburb\"])\n",
    "    address_details[\"government_area\"].append(i[\"government_area\"])\n",
    "    address_details[\"market\"].append(i[\"market\"])\n",
    "    address_details[\"country\"].append(i[\"country\"])\n",
    "    address_details[\"country_code\"].append(i[\"country_code\"])\n",
    "    address_details[\"location_type\"].append(i[\"location\"][\"type\"])\n",
    "    address_details[\"longitude\"].append(i[\"location\"][\"coordinates\"][0])\n",
    "    address_details[\"lattitude\"].append(i[\"location\"][\"coordinates\"][1])\n",
    "    address_details[\"is_location_exact\"].append(i[\"location\"][\"is_location_exact\"])"
   ]
  },
  {
   "cell_type": "code",
   "execution_count": 15,
   "id": "870d8d69-7dd4-4293-9e92-afc6d5f09d80",
   "metadata": {},
   "outputs": [],
   "source": [
    "df_address=pd.DataFrame(address_details)"
   ]
  },
  {
   "cell_type": "code",
   "execution_count": 16,
   "id": "cbfca78e-ca9e-40a8-a6c2-475d0c544eaf",
   "metadata": {},
   "outputs": [
    {
     "data": {
      "text/html": [
       "<div>\n",
       "<style scoped>\n",
       "    .dataframe tbody tr th:only-of-type {\n",
       "        vertical-align: middle;\n",
       "    }\n",
       "\n",
       "    .dataframe tbody tr th {\n",
       "        vertical-align: top;\n",
       "    }\n",
       "\n",
       "    .dataframe thead th {\n",
       "        text-align: right;\n",
       "    }\n",
       "</style>\n",
       "<table border=\"1\" class=\"dataframe\">\n",
       "  <thead>\n",
       "    <tr style=\"text-align: right;\">\n",
       "      <th></th>\n",
       "      <th>_id</th>\n",
       "      <th>availability</th>\n",
       "    </tr>\n",
       "  </thead>\n",
       "  <tbody>\n",
       "    <tr>\n",
       "      <th>0</th>\n",
       "      <td>1003530</td>\n",
       "      <td>{'availability_30': 0, 'availability_60': 0, '...</td>\n",
       "    </tr>\n",
       "    <tr>\n",
       "      <th>1</th>\n",
       "      <td>10133554</td>\n",
       "      <td>{'availability_30': 30, 'availability_60': 60,...</td>\n",
       "    </tr>\n",
       "    <tr>\n",
       "      <th>2</th>\n",
       "      <td>10059872</td>\n",
       "      <td>{'availability_30': 0, 'availability_60': 0, '...</td>\n",
       "    </tr>\n",
       "    <tr>\n",
       "      <th>3</th>\n",
       "      <td>10084023</td>\n",
       "      <td>{'availability_30': 14, 'availability_60': 24,...</td>\n",
       "    </tr>\n",
       "    <tr>\n",
       "      <th>4</th>\n",
       "      <td>10091713</td>\n",
       "      <td>{'availability_30': 0, 'availability_60': 0, '...</td>\n",
       "    </tr>\n",
       "    <tr>\n",
       "      <th>...</th>\n",
       "      <td>...</td>\n",
       "      <td>...</td>\n",
       "    </tr>\n",
       "    <tr>\n",
       "      <th>5550</th>\n",
       "      <td>9985696</td>\n",
       "      <td>{'availability_30': 30, 'availability_60': 60,...</td>\n",
       "    </tr>\n",
       "    <tr>\n",
       "      <th>5551</th>\n",
       "      <td>9993190</td>\n",
       "      <td>{'availability_30': 0, 'availability_60': 8, '...</td>\n",
       "    </tr>\n",
       "    <tr>\n",
       "      <th>5552</th>\n",
       "      <td>9887054</td>\n",
       "      <td>{'availability_30': 18, 'availability_60': 48,...</td>\n",
       "    </tr>\n",
       "    <tr>\n",
       "      <th>5553</th>\n",
       "      <td>9907907</td>\n",
       "      <td>{'availability_30': 0, 'availability_60': 0, '...</td>\n",
       "    </tr>\n",
       "    <tr>\n",
       "      <th>5554</th>\n",
       "      <td>9936016</td>\n",
       "      <td>{'availability_30': 0, 'availability_60': 0, '...</td>\n",
       "    </tr>\n",
       "  </tbody>\n",
       "</table>\n",
       "<p>5555 rows × 2 columns</p>\n",
       "</div>"
      ],
      "text/plain": [
       "           _id                                       availability\n",
       "0      1003530  {'availability_30': 0, 'availability_60': 0, '...\n",
       "1     10133554  {'availability_30': 30, 'availability_60': 60,...\n",
       "2     10059872  {'availability_30': 0, 'availability_60': 0, '...\n",
       "3     10084023  {'availability_30': 14, 'availability_60': 24,...\n",
       "4     10091713  {'availability_30': 0, 'availability_60': 0, '...\n",
       "...        ...                                                ...\n",
       "5550   9985696  {'availability_30': 30, 'availability_60': 60,...\n",
       "5551   9993190  {'availability_30': 0, 'availability_60': 8, '...\n",
       "5552   9887054  {'availability_30': 18, 'availability_60': 48,...\n",
       "5553   9907907  {'availability_30': 0, 'availability_60': 0, '...\n",
       "5554   9936016  {'availability_30': 0, 'availability_60': 0, '...\n",
       "\n",
       "[5555 rows x 2 columns]"
      ]
     },
     "execution_count": 16,
     "metadata": {},
     "output_type": "execute_result"
    }
   ],
   "source": [
    "data5=[]\n",
    "for i in coll.find({}, {\"_id\":1, \"availability\":1}):\n",
    "    data5.append(i)\n",
    "\n",
    "df5=pd.DataFrame(data5)\n",
    "df5"
   ]
  },
  {
   "cell_type": "code",
   "execution_count": 17,
   "id": "c6cef310-bc60-4b7a-86bf-4aae342dfb76",
   "metadata": {},
   "outputs": [],
   "source": [
    "availabilty_details={\"_id\":[], \"availability_30\":[], \"availability_60\":[], \"availability_90\":[], \"availability_365\":[]}\n",
    "\n",
    "for i in df5[\"_id\"]:\n",
    "   availabilty_details[\"_id\"].append(i)\n",
    "\n",
    "for i in df5[\"availability\"]:\n",
    "    availabilty_details[\"availability_30\"].append(i[\"availability_30\"])\n",
    "    availabilty_details[\"availability_60\"].append(i[\"availability_60\"])\n",
    "    availabilty_details[\"availability_90\"].append(i[\"availability_90\"])\n",
    "    availabilty_details[\"availability_365\"].append(i[\"availability_365\"])"
   ]
  },
  {
   "cell_type": "code",
   "execution_count": 18,
   "id": "3a476cab-5446-401c-ac9f-b95de4ce52e6",
   "metadata": {},
   "outputs": [
    {
     "data": {
      "text/html": [
       "<div>\n",
       "<style scoped>\n",
       "    .dataframe tbody tr th:only-of-type {\n",
       "        vertical-align: middle;\n",
       "    }\n",
       "\n",
       "    .dataframe tbody tr th {\n",
       "        vertical-align: top;\n",
       "    }\n",
       "\n",
       "    .dataframe thead th {\n",
       "        text-align: right;\n",
       "    }\n",
       "</style>\n",
       "<table border=\"1\" class=\"dataframe\">\n",
       "  <thead>\n",
       "    <tr style=\"text-align: right;\">\n",
       "      <th></th>\n",
       "      <th>_id</th>\n",
       "      <th>availability_30</th>\n",
       "      <th>availability_60</th>\n",
       "      <th>availability_90</th>\n",
       "      <th>availability_365</th>\n",
       "    </tr>\n",
       "  </thead>\n",
       "  <tbody>\n",
       "    <tr>\n",
       "      <th>0</th>\n",
       "      <td>1003530</td>\n",
       "      <td>0</td>\n",
       "      <td>0</td>\n",
       "      <td>0</td>\n",
       "      <td>93</td>\n",
       "    </tr>\n",
       "    <tr>\n",
       "      <th>1</th>\n",
       "      <td>10133554</td>\n",
       "      <td>30</td>\n",
       "      <td>60</td>\n",
       "      <td>90</td>\n",
       "      <td>365</td>\n",
       "    </tr>\n",
       "    <tr>\n",
       "      <th>2</th>\n",
       "      <td>10059872</td>\n",
       "      <td>0</td>\n",
       "      <td>0</td>\n",
       "      <td>0</td>\n",
       "      <td>0</td>\n",
       "    </tr>\n",
       "    <tr>\n",
       "      <th>3</th>\n",
       "      <td>10084023</td>\n",
       "      <td>14</td>\n",
       "      <td>24</td>\n",
       "      <td>40</td>\n",
       "      <td>220</td>\n",
       "    </tr>\n",
       "    <tr>\n",
       "      <th>4</th>\n",
       "      <td>10091713</td>\n",
       "      <td>0</td>\n",
       "      <td>0</td>\n",
       "      <td>0</td>\n",
       "      <td>0</td>\n",
       "    </tr>\n",
       "    <tr>\n",
       "      <th>...</th>\n",
       "      <td>...</td>\n",
       "      <td>...</td>\n",
       "      <td>...</td>\n",
       "      <td>...</td>\n",
       "      <td>...</td>\n",
       "    </tr>\n",
       "    <tr>\n",
       "      <th>5550</th>\n",
       "      <td>9985696</td>\n",
       "      <td>30</td>\n",
       "      <td>60</td>\n",
       "      <td>90</td>\n",
       "      <td>365</td>\n",
       "    </tr>\n",
       "    <tr>\n",
       "      <th>5551</th>\n",
       "      <td>9993190</td>\n",
       "      <td>0</td>\n",
       "      <td>8</td>\n",
       "      <td>31</td>\n",
       "      <td>258</td>\n",
       "    </tr>\n",
       "    <tr>\n",
       "      <th>5552</th>\n",
       "      <td>9887054</td>\n",
       "      <td>18</td>\n",
       "      <td>48</td>\n",
       "      <td>78</td>\n",
       "      <td>353</td>\n",
       "    </tr>\n",
       "    <tr>\n",
       "      <th>5553</th>\n",
       "      <td>9907907</td>\n",
       "      <td>0</td>\n",
       "      <td>0</td>\n",
       "      <td>0</td>\n",
       "      <td>0</td>\n",
       "    </tr>\n",
       "    <tr>\n",
       "      <th>5554</th>\n",
       "      <td>9936016</td>\n",
       "      <td>0</td>\n",
       "      <td>0</td>\n",
       "      <td>0</td>\n",
       "      <td>0</td>\n",
       "    </tr>\n",
       "  </tbody>\n",
       "</table>\n",
       "<p>5555 rows × 5 columns</p>\n",
       "</div>"
      ],
      "text/plain": [
       "           _id  availability_30  availability_60  availability_90  \\\n",
       "0      1003530                0                0                0   \n",
       "1     10133554               30               60               90   \n",
       "2     10059872                0                0                0   \n",
       "3     10084023               14               24               40   \n",
       "4     10091713                0                0                0   \n",
       "...        ...              ...              ...              ...   \n",
       "5550   9985696               30               60               90   \n",
       "5551   9993190                0                8               31   \n",
       "5552   9887054               18               48               78   \n",
       "5553   9907907                0                0                0   \n",
       "5554   9936016                0                0                0   \n",
       "\n",
       "      availability_365  \n",
       "0                   93  \n",
       "1                  365  \n",
       "2                    0  \n",
       "3                  220  \n",
       "4                    0  \n",
       "...                ...  \n",
       "5550               365  \n",
       "5551               258  \n",
       "5552               353  \n",
       "5553                 0  \n",
       "5554                 0  \n",
       "\n",
       "[5555 rows x 5 columns]"
      ]
     },
     "execution_count": 18,
     "metadata": {},
     "output_type": "execute_result"
    }
   ],
   "source": [
    "df_availabilty=pd.DataFrame(availabilty_details)\n",
    "df_availabilty"
   ]
  },
  {
   "cell_type": "markdown",
   "id": "6b5399ba-382b-4e62-bc54-207e800e1b43",
   "metadata": {},
   "source": [
    "### Data Handling"
   ]
  },
  {
   "cell_type": "code",
   "execution_count": 19,
   "id": "1143fde8-74db-423c-b42b-3cda46c9985d",
   "metadata": {},
   "outputs": [
    {
     "data": {
      "text/html": [
       "<div>\n",
       "<style scoped>\n",
       "    .dataframe tbody tr th:only-of-type {\n",
       "        vertical-align: middle;\n",
       "    }\n",
       "\n",
       "    .dataframe tbody tr th {\n",
       "        vertical-align: top;\n",
       "    }\n",
       "\n",
       "    .dataframe thead th {\n",
       "        text-align: right;\n",
       "    }\n",
       "</style>\n",
       "<table border=\"1\" class=\"dataframe\">\n",
       "  <thead>\n",
       "    <tr style=\"text-align: right;\">\n",
       "      <th></th>\n",
       "      <th>_id</th>\n",
       "      <th>listing_url</th>\n",
       "      <th>name</th>\n",
       "      <th>property_type</th>\n",
       "      <th>room_type</th>\n",
       "      <th>bed_type</th>\n",
       "      <th>minimum_nights</th>\n",
       "      <th>maximum_nights</th>\n",
       "      <th>cancellation_policy</th>\n",
       "      <th>accommodates</th>\n",
       "      <th>bedrooms</th>\n",
       "      <th>beds</th>\n",
       "      <th>number_of_reviews</th>\n",
       "      <th>bathrooms</th>\n",
       "      <th>price</th>\n",
       "      <th>cleaning_fee</th>\n",
       "      <th>extra_people</th>\n",
       "      <th>guests_included</th>\n",
       "      <th>review_scores</th>\n",
       "    </tr>\n",
       "  </thead>\n",
       "  <tbody>\n",
       "    <tr>\n",
       "      <th>0</th>\n",
       "      <td>1003530</td>\n",
       "      <td>https://www.airbnb.com/rooms/1003530</td>\n",
       "      <td>New York City - Upper West Side Apt</td>\n",
       "      <td>Apartment</td>\n",
       "      <td>Private room</td>\n",
       "      <td>Real Bed</td>\n",
       "      <td>12</td>\n",
       "      <td>360</td>\n",
       "      <td>strict_14_with_grace_period</td>\n",
       "      <td>2</td>\n",
       "      <td>1.0</td>\n",
       "      <td>1.0</td>\n",
       "      <td>70</td>\n",
       "      <td>1.0</td>\n",
       "      <td>135</td>\n",
       "      <td>135.0</td>\n",
       "      <td>0</td>\n",
       "      <td>1</td>\n",
       "      <td>{'review_scores_rating': 94}</td>\n",
       "    </tr>\n",
       "    <tr>\n",
       "      <th>1</th>\n",
       "      <td>10133554</td>\n",
       "      <td>https://www.airbnb.com/rooms/10133554</td>\n",
       "      <td>Double and triple rooms Blue mosque</td>\n",
       "      <td>Bed and breakfast</td>\n",
       "      <td>Private room</td>\n",
       "      <td>Real Bed</td>\n",
       "      <td>1</td>\n",
       "      <td>1125</td>\n",
       "      <td>moderate</td>\n",
       "      <td>3</td>\n",
       "      <td>1.0</td>\n",
       "      <td>2.0</td>\n",
       "      <td>29</td>\n",
       "      <td>1.0</td>\n",
       "      <td>121</td>\n",
       "      <td>NaN</td>\n",
       "      <td>0</td>\n",
       "      <td>1</td>\n",
       "      <td>{'review_scores_rating': 92}</td>\n",
       "    </tr>\n",
       "    <tr>\n",
       "      <th>2</th>\n",
       "      <td>10059872</td>\n",
       "      <td>https://www.airbnb.com/rooms/10059872</td>\n",
       "      <td>Soho Cozy, Spacious and Convenient</td>\n",
       "      <td>Apartment</td>\n",
       "      <td>Entire home/apt</td>\n",
       "      <td>Real Bed</td>\n",
       "      <td>4</td>\n",
       "      <td>20</td>\n",
       "      <td>flexible</td>\n",
       "      <td>3</td>\n",
       "      <td>1.0</td>\n",
       "      <td>2.0</td>\n",
       "      <td>3</td>\n",
       "      <td>1.0</td>\n",
       "      <td>699</td>\n",
       "      <td>NaN</td>\n",
       "      <td>0</td>\n",
       "      <td>1</td>\n",
       "      <td>{'review_scores_rating': 100}</td>\n",
       "    </tr>\n",
       "    <tr>\n",
       "      <th>3</th>\n",
       "      <td>10084023</td>\n",
       "      <td>https://www.airbnb.com/rooms/10084023</td>\n",
       "      <td>City center private room with bed</td>\n",
       "      <td>Guesthouse</td>\n",
       "      <td>Private room</td>\n",
       "      <td>Futon</td>\n",
       "      <td>1</td>\n",
       "      <td>500</td>\n",
       "      <td>strict_14_with_grace_period</td>\n",
       "      <td>1</td>\n",
       "      <td>1.0</td>\n",
       "      <td>1.0</td>\n",
       "      <td>81</td>\n",
       "      <td>1.0</td>\n",
       "      <td>181</td>\n",
       "      <td>50.0</td>\n",
       "      <td>100</td>\n",
       "      <td>1</td>\n",
       "      <td>{'review_scores_rating': 92}</td>\n",
       "    </tr>\n",
       "    <tr>\n",
       "      <th>4</th>\n",
       "      <td>10091713</td>\n",
       "      <td>https://www.airbnb.com/rooms/10091713</td>\n",
       "      <td>Surry Hills Studio - Your Perfect Base in Sydney</td>\n",
       "      <td>Apartment</td>\n",
       "      <td>Entire home/apt</td>\n",
       "      <td>Real Bed</td>\n",
       "      <td>10</td>\n",
       "      <td>21</td>\n",
       "      <td>strict_14_with_grace_period</td>\n",
       "      <td>2</td>\n",
       "      <td>0.0</td>\n",
       "      <td>1.0</td>\n",
       "      <td>64</td>\n",
       "      <td>1.0</td>\n",
       "      <td>181</td>\n",
       "      <td>50.0</td>\n",
       "      <td>0</td>\n",
       "      <td>1</td>\n",
       "      <td>{'review_scores_rating': 95}</td>\n",
       "    </tr>\n",
       "    <tr>\n",
       "      <th>...</th>\n",
       "      <td>...</td>\n",
       "      <td>...</td>\n",
       "      <td>...</td>\n",
       "      <td>...</td>\n",
       "      <td>...</td>\n",
       "      <td>...</td>\n",
       "      <td>...</td>\n",
       "      <td>...</td>\n",
       "      <td>...</td>\n",
       "      <td>...</td>\n",
       "      <td>...</td>\n",
       "      <td>...</td>\n",
       "      <td>...</td>\n",
       "      <td>...</td>\n",
       "      <td>...</td>\n",
       "      <td>...</td>\n",
       "      <td>...</td>\n",
       "      <td>...</td>\n",
       "      <td>...</td>\n",
       "    </tr>\n",
       "    <tr>\n",
       "      <th>5550</th>\n",
       "      <td>9985696</td>\n",
       "      <td>https://www.airbnb.com/rooms/9985696</td>\n",
       "      <td>Kadıköy-Altıyol</td>\n",
       "      <td>House</td>\n",
       "      <td>Entire home/apt</td>\n",
       "      <td>Real Bed</td>\n",
       "      <td>1</td>\n",
       "      <td>1125</td>\n",
       "      <td>flexible</td>\n",
       "      <td>2</td>\n",
       "      <td>2.0</td>\n",
       "      <td>3.0</td>\n",
       "      <td>0</td>\n",
       "      <td>1.0</td>\n",
       "      <td>501</td>\n",
       "      <td>NaN</td>\n",
       "      <td>0</td>\n",
       "      <td>1</td>\n",
       "      <td>{}</td>\n",
       "    </tr>\n",
       "    <tr>\n",
       "      <th>5551</th>\n",
       "      <td>9993190</td>\n",
       "      <td>https://www.airbnb.com/rooms/9993190</td>\n",
       "      <td>Just Steps from the Ocean at Premier Platinum ...</td>\n",
       "      <td>Townhouse</td>\n",
       "      <td>Entire home/apt</td>\n",
       "      <td>Real Bed</td>\n",
       "      <td>3</td>\n",
       "      <td>365</td>\n",
       "      <td>strict_14_with_grace_period</td>\n",
       "      <td>6</td>\n",
       "      <td>2.0</td>\n",
       "      <td>4.0</td>\n",
       "      <td>15</td>\n",
       "      <td>2.0</td>\n",
       "      <td>220</td>\n",
       "      <td>315.0</td>\n",
       "      <td>0</td>\n",
       "      <td>1</td>\n",
       "      <td>{'review_scores_rating': 92}</td>\n",
       "    </tr>\n",
       "    <tr>\n",
       "      <th>5552</th>\n",
       "      <td>9887054</td>\n",
       "      <td>https://www.airbnb.com/rooms/9887054</td>\n",
       "      <td>Quarry Bay fully furnished studio C</td>\n",
       "      <td>Apartment</td>\n",
       "      <td>Private room</td>\n",
       "      <td>Real Bed</td>\n",
       "      <td>3</td>\n",
       "      <td>1125</td>\n",
       "      <td>flexible</td>\n",
       "      <td>1</td>\n",
       "      <td>1.0</td>\n",
       "      <td>1.0</td>\n",
       "      <td>4</td>\n",
       "      <td>1.0</td>\n",
       "      <td>400</td>\n",
       "      <td>NaN</td>\n",
       "      <td>300</td>\n",
       "      <td>2</td>\n",
       "      <td>{'review_scores_rating': 85}</td>\n",
       "    </tr>\n",
       "    <tr>\n",
       "      <th>5553</th>\n",
       "      <td>9907907</td>\n",
       "      <td>https://www.airbnb.com/rooms/9907907</td>\n",
       "      <td>Large double room in Bondi</td>\n",
       "      <td>Apartment</td>\n",
       "      <td>Private room</td>\n",
       "      <td>Real Bed</td>\n",
       "      <td>3</td>\n",
       "      <td>1125</td>\n",
       "      <td>moderate</td>\n",
       "      <td>2</td>\n",
       "      <td>1.0</td>\n",
       "      <td>1.0</td>\n",
       "      <td>0</td>\n",
       "      <td>1.0</td>\n",
       "      <td>60</td>\n",
       "      <td>50.0</td>\n",
       "      <td>50</td>\n",
       "      <td>2</td>\n",
       "      <td>{}</td>\n",
       "    </tr>\n",
       "    <tr>\n",
       "      <th>5554</th>\n",
       "      <td>9936016</td>\n",
       "      <td>https://www.airbnb.com/rooms/9936016</td>\n",
       "      <td>Alugo Apartamento na Tijuca</td>\n",
       "      <td>Apartment</td>\n",
       "      <td>Entire home/apt</td>\n",
       "      <td>Real Bed</td>\n",
       "      <td>1</td>\n",
       "      <td>1125</td>\n",
       "      <td>flexible</td>\n",
       "      <td>6</td>\n",
       "      <td>1.0</td>\n",
       "      <td>2.0</td>\n",
       "      <td>0</td>\n",
       "      <td>2.0</td>\n",
       "      <td>750</td>\n",
       "      <td>NaN</td>\n",
       "      <td>0</td>\n",
       "      <td>1</td>\n",
       "      <td>{}</td>\n",
       "    </tr>\n",
       "  </tbody>\n",
       "</table>\n",
       "<p>5555 rows × 19 columns</p>\n",
       "</div>"
      ],
      "text/plain": [
       "           _id                            listing_url  \\\n",
       "0      1003530   https://www.airbnb.com/rooms/1003530   \n",
       "1     10133554  https://www.airbnb.com/rooms/10133554   \n",
       "2     10059872  https://www.airbnb.com/rooms/10059872   \n",
       "3     10084023  https://www.airbnb.com/rooms/10084023   \n",
       "4     10091713  https://www.airbnb.com/rooms/10091713   \n",
       "...        ...                                    ...   \n",
       "5550   9985696   https://www.airbnb.com/rooms/9985696   \n",
       "5551   9993190   https://www.airbnb.com/rooms/9993190   \n",
       "5552   9887054   https://www.airbnb.com/rooms/9887054   \n",
       "5553   9907907   https://www.airbnb.com/rooms/9907907   \n",
       "5554   9936016   https://www.airbnb.com/rooms/9936016   \n",
       "\n",
       "                                                   name      property_type  \\\n",
       "0                   New York City - Upper West Side Apt          Apartment   \n",
       "1                   Double and triple rooms Blue mosque  Bed and breakfast   \n",
       "2                    Soho Cozy, Spacious and Convenient          Apartment   \n",
       "3                     City center private room with bed         Guesthouse   \n",
       "4      Surry Hills Studio - Your Perfect Base in Sydney          Apartment   \n",
       "...                                                 ...                ...   \n",
       "5550                                    Kadıköy-Altıyol              House   \n",
       "5551  Just Steps from the Ocean at Premier Platinum ...          Townhouse   \n",
       "5552                Quarry Bay fully furnished studio C          Apartment   \n",
       "5553                         Large double room in Bondi          Apartment   \n",
       "5554                        Alugo Apartamento na Tijuca          Apartment   \n",
       "\n",
       "            room_type  bed_type minimum_nights maximum_nights  \\\n",
       "0        Private room  Real Bed             12            360   \n",
       "1        Private room  Real Bed              1           1125   \n",
       "2     Entire home/apt  Real Bed              4             20   \n",
       "3        Private room     Futon              1            500   \n",
       "4     Entire home/apt  Real Bed             10             21   \n",
       "...               ...       ...            ...            ...   \n",
       "5550  Entire home/apt  Real Bed              1           1125   \n",
       "5551  Entire home/apt  Real Bed              3            365   \n",
       "5552     Private room  Real Bed              3           1125   \n",
       "5553     Private room  Real Bed              3           1125   \n",
       "5554  Entire home/apt  Real Bed              1           1125   \n",
       "\n",
       "              cancellation_policy  accommodates  bedrooms  beds  \\\n",
       "0     strict_14_with_grace_period             2       1.0   1.0   \n",
       "1                        moderate             3       1.0   2.0   \n",
       "2                        flexible             3       1.0   2.0   \n",
       "3     strict_14_with_grace_period             1       1.0   1.0   \n",
       "4     strict_14_with_grace_period             2       0.0   1.0   \n",
       "...                           ...           ...       ...   ...   \n",
       "5550                     flexible             2       2.0   3.0   \n",
       "5551  strict_14_with_grace_period             6       2.0   4.0   \n",
       "5552                     flexible             1       1.0   1.0   \n",
       "5553                     moderate             2       1.0   1.0   \n",
       "5554                     flexible             6       1.0   2.0   \n",
       "\n",
       "      number_of_reviews  bathrooms  price  cleaning_fee  extra_people  \\\n",
       "0                    70        1.0    135         135.0             0   \n",
       "1                    29        1.0    121           NaN             0   \n",
       "2                     3        1.0    699           NaN             0   \n",
       "3                    81        1.0    181          50.0           100   \n",
       "4                    64        1.0    181          50.0             0   \n",
       "...                 ...        ...    ...           ...           ...   \n",
       "5550                  0        1.0    501           NaN             0   \n",
       "5551                 15        2.0    220         315.0             0   \n",
       "5552                  4        1.0    400           NaN           300   \n",
       "5553                  0        1.0     60          50.0            50   \n",
       "5554                  0        2.0    750           NaN             0   \n",
       "\n",
       "      guests_included                  review_scores  \n",
       "0                   1   {'review_scores_rating': 94}  \n",
       "1                   1   {'review_scores_rating': 92}  \n",
       "2                   1  {'review_scores_rating': 100}  \n",
       "3                   1   {'review_scores_rating': 92}  \n",
       "4                   1   {'review_scores_rating': 95}  \n",
       "...               ...                            ...  \n",
       "5550                1                             {}  \n",
       "5551                1   {'review_scores_rating': 92}  \n",
       "5552                2   {'review_scores_rating': 85}  \n",
       "5553                2                             {}  \n",
       "5554                1                             {}  \n",
       "\n",
       "[5555 rows x 19 columns]"
      ]
     },
     "execution_count": 19,
     "metadata": {},
     "output_type": "execute_result"
    }
   ],
   "source": [
    "#basic details dataframe\n",
    "df1"
   ]
  },
  {
   "cell_type": "code",
   "execution_count": 20,
   "id": "41c780e2-dddb-4386-97ac-91d9cedfce18",
   "metadata": {},
   "outputs": [
    {
     "name": "stdout",
     "output_type": "stream",
     "text": [
      "<class 'pandas.core.frame.DataFrame'>\n",
      "RangeIndex: 5555 entries, 0 to 5554\n",
      "Data columns (total 19 columns):\n",
      " #   Column               Non-Null Count  Dtype  \n",
      "---  ------               --------------  -----  \n",
      " 0   _id                  5555 non-null   object \n",
      " 1   listing_url          5555 non-null   object \n",
      " 2   name                 5555 non-null   object \n",
      " 3   property_type        5555 non-null   object \n",
      " 4   room_type            5555 non-null   object \n",
      " 5   bed_type             5555 non-null   object \n",
      " 6   minimum_nights       5555 non-null   object \n",
      " 7   maximum_nights       5555 non-null   object \n",
      " 8   cancellation_policy  5555 non-null   object \n",
      " 9   accommodates         5555 non-null   int64  \n",
      " 10  bedrooms             5550 non-null   float64\n",
      " 11  beds                 5542 non-null   float64\n",
      " 12  number_of_reviews    5555 non-null   int64  \n",
      " 13  bathrooms            5545 non-null   float64\n",
      " 14  price                5555 non-null   int64  \n",
      " 15  cleaning_fee         4024 non-null   float64\n",
      " 16  extra_people         5555 non-null   int64  \n",
      " 17  guests_included      5555 non-null   int64  \n",
      " 18  review_scores        5555 non-null   object \n",
      "dtypes: float64(4), int64(5), object(10)\n",
      "memory usage: 824.7+ KB\n"
     ]
    }
   ],
   "source": [
    "df1.info()"
   ]
  },
  {
   "cell_type": "code",
   "execution_count": 21,
   "id": "ad328ad9-d3b0-4134-adc3-92cbd37c28b3",
   "metadata": {},
   "outputs": [],
   "source": [
    "# null values present in bedrooms, beds, bathroom, cleaning fee\n",
    "df1[\"bedrooms\"].fillna(0,inplace=True)\n",
    "df1[\"beds\"].fillna(0,inplace=True)\n",
    "df1[\"bathrooms\"].fillna(0,inplace=True)\n",
    "df1[\"cleaning_fee\"].fillna('Not Specified',inplace=True)"
   ]
  },
  {
   "cell_type": "code",
   "execution_count": 22,
   "id": "7a08be20-78ef-4b7a-8ed7-0a52cc99c5bc",
   "metadata": {},
   "outputs": [
    {
     "data": {
      "text/plain": [
       "_id                    0\n",
       "listing_url            0\n",
       "name                   0\n",
       "property_type          0\n",
       "room_type              0\n",
       "bed_type               0\n",
       "minimum_nights         0\n",
       "maximum_nights         0\n",
       "cancellation_policy    0\n",
       "accommodates           0\n",
       "bedrooms               0\n",
       "beds                   0\n",
       "number_of_reviews      0\n",
       "bathrooms              0\n",
       "price                  0\n",
       "cleaning_fee           0\n",
       "extra_people           0\n",
       "guests_included        0\n",
       "review_scores          0\n",
       "dtype: int64"
      ]
     },
     "execution_count": 22,
     "metadata": {},
     "output_type": "execute_result"
    }
   ],
   "source": [
    "df1.isnull().sum()"
   ]
  },
  {
   "cell_type": "code",
   "execution_count": 23,
   "id": "9f02c02f-ef09-411a-a906-dabf452468a0",
   "metadata": {},
   "outputs": [
    {
     "data": {
      "text/plain": [
       "_id                     object\n",
       "listing_url             object\n",
       "name                    object\n",
       "property_type           object\n",
       "room_type               object\n",
       "bed_type                object\n",
       "minimum_nights          object\n",
       "maximum_nights          object\n",
       "cancellation_policy     object\n",
       "accommodates             int64\n",
       "bedrooms               float64\n",
       "beds                   float64\n",
       "number_of_reviews        int64\n",
       "bathrooms              float64\n",
       "price                    int64\n",
       "cleaning_fee            object\n",
       "extra_people             int64\n",
       "guests_included          int64\n",
       "review_scores           object\n",
       "dtype: object"
      ]
     },
     "execution_count": 23,
     "metadata": {},
     "output_type": "execute_result"
    }
   ],
   "source": [
    "#changing the data types\n",
    "df1.dtypes"
   ]
  },
  {
   "cell_type": "code",
   "execution_count": 24,
   "id": "32586b06-36bd-451d-a614-ac4ce63897ad",
   "metadata": {},
   "outputs": [],
   "source": [
    "df1['minimum_nights'] = df1['minimum_nights'].astype(int)\n",
    "df1['maximum_nights'] = df1['maximum_nights'].astype(int)\n",
    "df1['bedrooms'] = df1['bedrooms'].astype(int)\n",
    "df1['beds'] = df1['beds'].astype(int)\n",
    "df1['bathrooms'] = df1['bathrooms'].astype(str).astype(float)\n",
    "df1['price'] = df1['price'].astype(str).astype(float).astype(int)\n",
    "df1['cleaning_fee'] = df1['cleaning_fee'].apply(lambda x: int(float(str(x))) if x != 'Not Specified' else 'Not Specified')\n",
    "df1['extra_people'] = df1['extra_people'].astype(str).astype(float).astype(int)\n",
    "df1['guests_included'] = df1['guests_included'].astype(str).astype(int)"
   ]
  },
  {
   "cell_type": "code",
   "execution_count": 25,
   "id": "c137951c-f0e4-4e83-84b6-a3d2ae1672f3",
   "metadata": {},
   "outputs": [
    {
     "data": {
      "text/plain": [
       "_id                     object\n",
       "listing_url             object\n",
       "name                    object\n",
       "property_type           object\n",
       "room_type               object\n",
       "bed_type                object\n",
       "minimum_nights           int32\n",
       "maximum_nights           int32\n",
       "cancellation_policy     object\n",
       "accommodates             int64\n",
       "bedrooms                 int32\n",
       "beds                     int32\n",
       "number_of_reviews        int64\n",
       "bathrooms              float64\n",
       "price                    int32\n",
       "cleaning_fee            object\n",
       "extra_people             int32\n",
       "guests_included          int32\n",
       "review_scores           object\n",
       "dtype: object"
      ]
     },
     "execution_count": 25,
     "metadata": {},
     "output_type": "execute_result"
    }
   ],
   "source": [
    "df1.dtypes"
   ]
  },
  {
   "cell_type": "markdown",
   "id": "f50c99c7-b33d-4279-bcdd-9f70a76be0a3",
   "metadata": {},
   "source": [
    "### Host details"
   ]
  },
  {
   "cell_type": "code",
   "execution_count": 26,
   "id": "5dfa8677-37bb-43f7-b786-ef135fa1a944",
   "metadata": {},
   "outputs": [
    {
     "data": {
      "text/plain": [
       "_id                             0\n",
       "host_id                         0\n",
       "host_url                        0\n",
       "host_name                       0\n",
       "host_location                   0\n",
       "host_response_time           1388\n",
       "host_neighbourhood              0\n",
       "host_response_rate           1388\n",
       "host_is_superhost               0\n",
       "host_identity_verified          0\n",
       "host_listings_count             0\n",
       "host_total_listings_count       0\n",
       "host_verifications              0\n",
       "dtype: int64"
      ]
     },
     "execution_count": 26,
     "metadata": {},
     "output_type": "execute_result"
    }
   ],
   "source": [
    "#preprocess host details\n",
    "df_host.isnull().sum()"
   ]
  },
  {
   "cell_type": "code",
   "execution_count": 27,
   "id": "9c263c4d-049e-4872-95bd-b0fbac0c2f23",
   "metadata": {},
   "outputs": [],
   "source": [
    "# host_neighbourhood have more empty values ('')\n",
    "# Finding the how many values are empty\n",
    "list_index= []\n",
    "for index,row in df_host.iterrows():\n",
    "    if row[\"host_neighbourhood\"] =='':\n",
    "        list_index.append(index)"
   ]
  },
  {
   "cell_type": "code",
   "execution_count": 28,
   "id": "1c2264b2-50f4-4d47-9372-f4275cd2ba13",
   "metadata": {},
   "outputs": [
    {
     "data": {
      "text/plain": [
       "1923"
      ]
     },
     "execution_count": 28,
     "metadata": {},
     "output_type": "execute_result"
    }
   ],
   "source": [
    "len(list_index)"
   ]
  },
  {
   "cell_type": "code",
   "execution_count": 29,
   "id": "9d01e6d7-2ebf-4cf0-bf7c-8c8aeb14a0f1",
   "metadata": {},
   "outputs": [],
   "source": [
    "df_host[\"host_response_time\"].fillna(\"Not Specified\",inplace=True)\n",
    "df_host[\"host_response_rate\"].fillna(\"Not Specified\", inplace=True)\n",
    "df_host[\"host_neighbourhood\"]=df_host[\"host_neighbourhood\"].replace({'':\"Not Specified\"})"
   ]
  },
  {
   "cell_type": "code",
   "execution_count": 30,
   "id": "12d8c71d-a65e-4d01-8556-3fe5d0666653",
   "metadata": {},
   "outputs": [
    {
     "data": {
      "text/html": [
       "<div>\n",
       "<style scoped>\n",
       "    .dataframe tbody tr th:only-of-type {\n",
       "        vertical-align: middle;\n",
       "    }\n",
       "\n",
       "    .dataframe tbody tr th {\n",
       "        vertical-align: top;\n",
       "    }\n",
       "\n",
       "    .dataframe thead th {\n",
       "        text-align: right;\n",
       "    }\n",
       "</style>\n",
       "<table border=\"1\" class=\"dataframe\">\n",
       "  <thead>\n",
       "    <tr style=\"text-align: right;\">\n",
       "      <th></th>\n",
       "      <th>_id</th>\n",
       "      <th>host_id</th>\n",
       "      <th>host_url</th>\n",
       "      <th>host_name</th>\n",
       "      <th>host_location</th>\n",
       "      <th>host_response_time</th>\n",
       "      <th>host_neighbourhood</th>\n",
       "      <th>host_response_rate</th>\n",
       "      <th>host_is_superhost</th>\n",
       "      <th>host_identity_verified</th>\n",
       "      <th>host_listings_count</th>\n",
       "      <th>host_total_listings_count</th>\n",
       "      <th>host_verifications</th>\n",
       "    </tr>\n",
       "  </thead>\n",
       "  <tbody>\n",
       "    <tr>\n",
       "      <th>0</th>\n",
       "      <td>1003530</td>\n",
       "      <td>454250</td>\n",
       "      <td>https://www.airbnb.com/users/show/454250</td>\n",
       "      <td>Greta</td>\n",
       "      <td>New York, New York, United States</td>\n",
       "      <td>within an hour</td>\n",
       "      <td>Not Specified</td>\n",
       "      <td>100.0</td>\n",
       "      <td>True</td>\n",
       "      <td>True</td>\n",
       "      <td>3</td>\n",
       "      <td>3</td>\n",
       "      <td>[email, phone, reviews, jumio, offline_governm...</td>\n",
       "    </tr>\n",
       "    <tr>\n",
       "      <th>1</th>\n",
       "      <td>10133554</td>\n",
       "      <td>52004703</td>\n",
       "      <td>https://www.airbnb.com/users/show/52004703</td>\n",
       "      <td>Mehmet Emin</td>\n",
       "      <td>Istanbul, İstanbul, Turkey</td>\n",
       "      <td>within a few hours</td>\n",
       "      <td>Not Specified</td>\n",
       "      <td>100.0</td>\n",
       "      <td>False</td>\n",
       "      <td>True</td>\n",
       "      <td>2</td>\n",
       "      <td>2</td>\n",
       "      <td>[email, phone, facebook, reviews, jumio, offli...</td>\n",
       "    </tr>\n",
       "    <tr>\n",
       "      <th>2</th>\n",
       "      <td>10059872</td>\n",
       "      <td>51624384</td>\n",
       "      <td>https://www.airbnb.com/users/show/51624384</td>\n",
       "      <td>Giovanni</td>\n",
       "      <td>Hong Kong, Hong Kong</td>\n",
       "      <td>Not Specified</td>\n",
       "      <td>Soho</td>\n",
       "      <td>Not Specified</td>\n",
       "      <td>False</td>\n",
       "      <td>False</td>\n",
       "      <td>1</td>\n",
       "      <td>1</td>\n",
       "      <td>[email, phone, reviews, jumio, government_id]</td>\n",
       "    </tr>\n",
       "    <tr>\n",
       "      <th>3</th>\n",
       "      <td>10084023</td>\n",
       "      <td>51744313</td>\n",
       "      <td>https://www.airbnb.com/users/show/51744313</td>\n",
       "      <td>Yi</td>\n",
       "      <td>United States</td>\n",
       "      <td>within an hour</td>\n",
       "      <td>Shek Kip Mei</td>\n",
       "      <td>100.0</td>\n",
       "      <td>False</td>\n",
       "      <td>True</td>\n",
       "      <td>2</td>\n",
       "      <td>2</td>\n",
       "      <td>[email, phone, reviews, jumio, offline_governm...</td>\n",
       "    </tr>\n",
       "    <tr>\n",
       "      <th>4</th>\n",
       "      <td>10091713</td>\n",
       "      <td>13764143</td>\n",
       "      <td>https://www.airbnb.com/users/show/13764143</td>\n",
       "      <td>Ben</td>\n",
       "      <td>New South Wales, Australia</td>\n",
       "      <td>Not Specified</td>\n",
       "      <td>Surry Hills</td>\n",
       "      <td>Not Specified</td>\n",
       "      <td>False</td>\n",
       "      <td>True</td>\n",
       "      <td>1</td>\n",
       "      <td>1</td>\n",
       "      <td>[email, phone, google, reviews, jumio, offline...</td>\n",
       "    </tr>\n",
       "  </tbody>\n",
       "</table>\n",
       "</div>"
      ],
      "text/plain": [
       "        _id   host_id                                    host_url  \\\n",
       "0   1003530    454250    https://www.airbnb.com/users/show/454250   \n",
       "1  10133554  52004703  https://www.airbnb.com/users/show/52004703   \n",
       "2  10059872  51624384  https://www.airbnb.com/users/show/51624384   \n",
       "3  10084023  51744313  https://www.airbnb.com/users/show/51744313   \n",
       "4  10091713  13764143  https://www.airbnb.com/users/show/13764143   \n",
       "\n",
       "     host_name                      host_location  host_response_time  \\\n",
       "0        Greta  New York, New York, United States      within an hour   \n",
       "1  Mehmet Emin         Istanbul, İstanbul, Turkey  within a few hours   \n",
       "2     Giovanni               Hong Kong, Hong Kong       Not Specified   \n",
       "3           Yi                      United States      within an hour   \n",
       "4          Ben         New South Wales, Australia       Not Specified   \n",
       "\n",
       "  host_neighbourhood host_response_rate  host_is_superhost  \\\n",
       "0      Not Specified              100.0               True   \n",
       "1      Not Specified              100.0              False   \n",
       "2               Soho      Not Specified              False   \n",
       "3       Shek Kip Mei              100.0              False   \n",
       "4        Surry Hills      Not Specified              False   \n",
       "\n",
       "   host_identity_verified  host_listings_count  host_total_listings_count  \\\n",
       "0                    True                    3                          3   \n",
       "1                    True                    2                          2   \n",
       "2                   False                    1                          1   \n",
       "3                    True                    2                          2   \n",
       "4                    True                    1                          1   \n",
       "\n",
       "                                  host_verifications  \n",
       "0  [email, phone, reviews, jumio, offline_governm...  \n",
       "1  [email, phone, facebook, reviews, jumio, offli...  \n",
       "2      [email, phone, reviews, jumio, government_id]  \n",
       "3  [email, phone, reviews, jumio, offline_governm...  \n",
       "4  [email, phone, google, reviews, jumio, offline...  "
      ]
     },
     "execution_count": 30,
     "metadata": {},
     "output_type": "execute_result"
    }
   ],
   "source": [
    "df_host.head()"
   ]
  },
  {
   "cell_type": "code",
   "execution_count": 31,
   "id": "a2d461b3-2652-4701-a921-f92258587091",
   "metadata": {},
   "outputs": [],
   "source": [
    "df_host[\"host_is_superhost\"]=df_host[\"host_is_superhost\"].map({False: \"No\", True: \"Yes\"})\n",
    "df_host[\"host_identity_verified\"]=df_host[\"host_identity_verified\"].map({True:\"Yes\", False:\"No\"})"
   ]
  },
  {
   "cell_type": "markdown",
   "id": "680ab44a-e3be-4cd7-a239-9b581bf679c6",
   "metadata": {},
   "source": [
    "### Address Details"
   ]
  },
  {
   "cell_type": "code",
   "execution_count": 32,
   "id": "85245cf8-a832-488a-9c33-fad61acf8a35",
   "metadata": {},
   "outputs": [
    {
     "data": {
      "text/html": [
       "<div>\n",
       "<style scoped>\n",
       "    .dataframe tbody tr th:only-of-type {\n",
       "        vertical-align: middle;\n",
       "    }\n",
       "\n",
       "    .dataframe tbody tr th {\n",
       "        vertical-align: top;\n",
       "    }\n",
       "\n",
       "    .dataframe thead th {\n",
       "        text-align: right;\n",
       "    }\n",
       "</style>\n",
       "<table border=\"1\" class=\"dataframe\">\n",
       "  <thead>\n",
       "    <tr style=\"text-align: right;\">\n",
       "      <th></th>\n",
       "      <th>_id</th>\n",
       "      <th>street</th>\n",
       "      <th>suburb</th>\n",
       "      <th>government_area</th>\n",
       "      <th>market</th>\n",
       "      <th>country</th>\n",
       "      <th>country_code</th>\n",
       "      <th>location_type</th>\n",
       "      <th>longitude</th>\n",
       "      <th>lattitude</th>\n",
       "      <th>is_location_exact</th>\n",
       "    </tr>\n",
       "  </thead>\n",
       "  <tbody>\n",
       "    <tr>\n",
       "      <th>0</th>\n",
       "      <td>1003530</td>\n",
       "      <td>New York, NY, United States</td>\n",
       "      <td>Manhattan</td>\n",
       "      <td>Upper West Side</td>\n",
       "      <td>New York</td>\n",
       "      <td>United States</td>\n",
       "      <td>US</td>\n",
       "      <td>Point</td>\n",
       "      <td>-73.96523</td>\n",
       "      <td>40.79962</td>\n",
       "      <td>False</td>\n",
       "    </tr>\n",
       "  </tbody>\n",
       "</table>\n",
       "</div>"
      ],
      "text/plain": [
       "       _id                       street     suburb  government_area    market  \\\n",
       "0  1003530  New York, NY, United States  Manhattan  Upper West Side  New York   \n",
       "\n",
       "         country country_code location_type  longitude  lattitude  \\\n",
       "0  United States           US         Point  -73.96523   40.79962   \n",
       "\n",
       "   is_location_exact  \n",
       "0              False  "
      ]
     },
     "execution_count": 32,
     "metadata": {},
     "output_type": "execute_result"
    }
   ],
   "source": [
    "df_address.head(1)"
   ]
  },
  {
   "cell_type": "code",
   "execution_count": 33,
   "id": "1d8b4dc8-7c9f-4323-946c-a0225243196f",
   "metadata": {},
   "outputs": [
    {
     "data": {
      "text/plain": [
       "_id                  0\n",
       "street               0\n",
       "suburb               0\n",
       "government_area      0\n",
       "market               0\n",
       "country              0\n",
       "country_code         0\n",
       "location_type        0\n",
       "longitude            0\n",
       "lattitude            0\n",
       "is_location_exact    0\n",
       "dtype: int64"
      ]
     },
     "execution_count": 33,
     "metadata": {},
     "output_type": "execute_result"
    }
   ],
   "source": [
    "df_address.isnull().sum()"
   ]
  },
  {
   "cell_type": "code",
   "execution_count": 50,
   "id": "9fe8e46c-4e1a-4099-8195-879db36d4208",
   "metadata": {},
   "outputs": [
    {
     "data": {
      "text/plain": [
       "_id                   object\n",
       "street                object\n",
       "suburb                object\n",
       "government_area       object\n",
       "market                object\n",
       "country               object\n",
       "country_code          object\n",
       "location_type         object\n",
       "longitude            float64\n",
       "lattitude            float64\n",
       "is_location_exact       bool\n",
       "dtype: object"
      ]
     },
     "execution_count": 50,
     "metadata": {},
     "output_type": "execute_result"
    }
   ],
   "source": [
    "df_address.dtypes"
   ]
  },
  {
   "cell_type": "code",
   "execution_count": 34,
   "id": "b5c0df38-57dc-406d-aeec-68fac59122fd",
   "metadata": {},
   "outputs": [],
   "source": [
    "# data set does't have null values\n",
    "# let's check ''\n",
    "street=[]\n",
    "suburb=[]\n",
    "govt_area=[]\n",
    "market=[]\n",
    "country=[]\n",
    "cc=[]\n",
    "loc_type=[]\n",
    "long=[]\n",
    "latti=[]\n",
    "exact_loc=[]\n"
   ]
  },
  {
   "cell_type": "code",
   "execution_count": 35,
   "id": "c4fa3e86-48ff-47ec-8a2f-1fc3e9dc43ee",
   "metadata": {},
   "outputs": [],
   "source": [
    "for index,row in df_address.iterrows():\n",
    "    if row[\"street\"]=='':\n",
    "        street.append(index)\n",
    "        \n",
    "    if row[\"suburb\"]=='':\n",
    "        suburb.append(index)\n",
    "        \n",
    "    if row[\"government_area\"]=='':\n",
    "        govt_area.append(index)\n",
    "        \n",
    "    if row[\"market\"]=='':\n",
    "        market.append(index)\n",
    "\n",
    "    if row[\"country\"]=='':\n",
    "        country.append(index)\n",
    "\n",
    "    if row[\"country_code\"]=='':\n",
    "        cc.append(index)\n",
    "\n",
    "    if row[\"location_type\"]=='':\n",
    "        loc_type.append(index)\n",
    "\n",
    "    if row[\"longitude\"]=='':\n",
    "        long.append(index)\n",
    "\n",
    "    if row[\"lattitude\"]=='':\n",
    "        latti.append(index)\n",
    "\n",
    "    if row[\"is_location_exact\"]=='':\n",
    "        exact_loc.append(index)"
   ]
  },
  {
   "cell_type": "code",
   "execution_count": 36,
   "id": "9f5cd342-c78f-4f2f-948c-a4f3e9e59106",
   "metadata": {},
   "outputs": [
    {
     "data": {
      "text/plain": [
       "0"
      ]
     },
     "execution_count": 36,
     "metadata": {},
     "output_type": "execute_result"
    }
   ],
   "source": [
    "len(street)"
   ]
  },
  {
   "cell_type": "code",
   "execution_count": 37,
   "id": "7a9ff503-1dd1-4d74-856b-c9e1bf832b15",
   "metadata": {},
   "outputs": [
    {
     "data": {
      "text/plain": [
       "887"
      ]
     },
     "execution_count": 37,
     "metadata": {},
     "output_type": "execute_result"
    }
   ],
   "source": [
    "len(suburb)"
   ]
  },
  {
   "cell_type": "code",
   "execution_count": 38,
   "id": "55918b28-af60-4abb-bdca-393ccfff0680",
   "metadata": {},
   "outputs": [
    {
     "data": {
      "text/plain": [
       "0"
      ]
     },
     "execution_count": 38,
     "metadata": {},
     "output_type": "execute_result"
    }
   ],
   "source": [
    "len(govt_area)"
   ]
  },
  {
   "cell_type": "code",
   "execution_count": 39,
   "id": "ba709cdd-d6ec-4af8-be7c-c3021d8de5bc",
   "metadata": {},
   "outputs": [
    {
     "data": {
      "text/plain": [
       "6"
      ]
     },
     "execution_count": 39,
     "metadata": {},
     "output_type": "execute_result"
    }
   ],
   "source": [
    "len(market)"
   ]
  },
  {
   "cell_type": "code",
   "execution_count": 40,
   "id": "0b0ac80f-9e68-4bce-9104-3bb4bcbd26c1",
   "metadata": {},
   "outputs": [
    {
     "data": {
      "text/plain": [
       "0"
      ]
     },
     "execution_count": 40,
     "metadata": {},
     "output_type": "execute_result"
    }
   ],
   "source": [
    "len(country)"
   ]
  },
  {
   "cell_type": "code",
   "execution_count": 41,
   "id": "14cf44d3-f1f6-4815-aac6-2fb2d9230a2b",
   "metadata": {},
   "outputs": [
    {
     "data": {
      "text/plain": [
       "0"
      ]
     },
     "execution_count": 41,
     "metadata": {},
     "output_type": "execute_result"
    }
   ],
   "source": [
    "len(cc)"
   ]
  },
  {
   "cell_type": "code",
   "execution_count": 42,
   "id": "85f0b51d-5f14-4094-a10f-c2bd78731478",
   "metadata": {},
   "outputs": [
    {
     "data": {
      "text/plain": [
       "0"
      ]
     },
     "execution_count": 42,
     "metadata": {},
     "output_type": "execute_result"
    }
   ],
   "source": [
    "len(loc_type)"
   ]
  },
  {
   "cell_type": "code",
   "execution_count": 43,
   "id": "c0754aa4-5b39-45cd-af6a-f9b01b0d7755",
   "metadata": {},
   "outputs": [
    {
     "data": {
      "text/plain": [
       "0"
      ]
     },
     "execution_count": 43,
     "metadata": {},
     "output_type": "execute_result"
    }
   ],
   "source": [
    "len(long)"
   ]
  },
  {
   "cell_type": "code",
   "execution_count": 44,
   "id": "2cac4990-17c0-49d0-aabc-179080003e87",
   "metadata": {},
   "outputs": [
    {
     "data": {
      "text/plain": [
       "0"
      ]
     },
     "execution_count": 44,
     "metadata": {},
     "output_type": "execute_result"
    }
   ],
   "source": [
    "len(latti)"
   ]
  },
  {
   "cell_type": "code",
   "execution_count": 45,
   "id": "160b9092-b5b8-466d-89e3-119b19abb16f",
   "metadata": {},
   "outputs": [
    {
     "data": {
      "text/plain": [
       "0"
      ]
     },
     "execution_count": 45,
     "metadata": {},
     "output_type": "execute_result"
    }
   ],
   "source": [
    "len(exact_loc)"
   ]
  },
  {
   "cell_type": "code",
   "execution_count": 46,
   "id": "63b70d20-9aed-462d-a45d-95bf1faefd13",
   "metadata": {},
   "outputs": [],
   "source": [
    "# empty values present in suburb and market, we need to treat\n",
    "df_address[\"suburb\"]=df_address[\"suburb\"].replace({'':\"Not Specified\"})\n",
    "df_address[\"market\"]=df_address[\"market\"].replace({'':\"Not Specifed\"})"
   ]
  },
  {
   "cell_type": "code",
   "execution_count": 51,
   "id": "792a2ba0-f81b-49dd-aef0-d848416a3321",
   "metadata": {},
   "outputs": [],
   "source": [
    "#to change the data type of is location exact column\n",
    "df_address[\"is_location_exact\"] = df_address[\"is_location_exact\"].map({False:\"No\", True:\"Yes\"})"
   ]
  },
  {
   "cell_type": "markdown",
   "id": "fe90196f-c01c-4308-abc1-528689258939",
   "metadata": {},
   "source": [
    "### Availability details"
   ]
  },
  {
   "cell_type": "code",
   "execution_count": 47,
   "id": "06835853-11b4-4910-89ab-f7eccecadb66",
   "metadata": {},
   "outputs": [
    {
     "data": {
      "text/html": [
       "<div>\n",
       "<style scoped>\n",
       "    .dataframe tbody tr th:only-of-type {\n",
       "        vertical-align: middle;\n",
       "    }\n",
       "\n",
       "    .dataframe tbody tr th {\n",
       "        vertical-align: top;\n",
       "    }\n",
       "\n",
       "    .dataframe thead th {\n",
       "        text-align: right;\n",
       "    }\n",
       "</style>\n",
       "<table border=\"1\" class=\"dataframe\">\n",
       "  <thead>\n",
       "    <tr style=\"text-align: right;\">\n",
       "      <th></th>\n",
       "      <th>_id</th>\n",
       "      <th>availability_30</th>\n",
       "      <th>availability_60</th>\n",
       "      <th>availability_90</th>\n",
       "      <th>availability_365</th>\n",
       "    </tr>\n",
       "  </thead>\n",
       "  <tbody>\n",
       "    <tr>\n",
       "      <th>0</th>\n",
       "      <td>1003530</td>\n",
       "      <td>0</td>\n",
       "      <td>0</td>\n",
       "      <td>0</td>\n",
       "      <td>93</td>\n",
       "    </tr>\n",
       "    <tr>\n",
       "      <th>1</th>\n",
       "      <td>10133554</td>\n",
       "      <td>30</td>\n",
       "      <td>60</td>\n",
       "      <td>90</td>\n",
       "      <td>365</td>\n",
       "    </tr>\n",
       "    <tr>\n",
       "      <th>2</th>\n",
       "      <td>10059872</td>\n",
       "      <td>0</td>\n",
       "      <td>0</td>\n",
       "      <td>0</td>\n",
       "      <td>0</td>\n",
       "    </tr>\n",
       "    <tr>\n",
       "      <th>3</th>\n",
       "      <td>10084023</td>\n",
       "      <td>14</td>\n",
       "      <td>24</td>\n",
       "      <td>40</td>\n",
       "      <td>220</td>\n",
       "    </tr>\n",
       "    <tr>\n",
       "      <th>4</th>\n",
       "      <td>10091713</td>\n",
       "      <td>0</td>\n",
       "      <td>0</td>\n",
       "      <td>0</td>\n",
       "      <td>0</td>\n",
       "    </tr>\n",
       "    <tr>\n",
       "      <th>...</th>\n",
       "      <td>...</td>\n",
       "      <td>...</td>\n",
       "      <td>...</td>\n",
       "      <td>...</td>\n",
       "      <td>...</td>\n",
       "    </tr>\n",
       "    <tr>\n",
       "      <th>5550</th>\n",
       "      <td>9985696</td>\n",
       "      <td>30</td>\n",
       "      <td>60</td>\n",
       "      <td>90</td>\n",
       "      <td>365</td>\n",
       "    </tr>\n",
       "    <tr>\n",
       "      <th>5551</th>\n",
       "      <td>9993190</td>\n",
       "      <td>0</td>\n",
       "      <td>8</td>\n",
       "      <td>31</td>\n",
       "      <td>258</td>\n",
       "    </tr>\n",
       "    <tr>\n",
       "      <th>5552</th>\n",
       "      <td>9887054</td>\n",
       "      <td>18</td>\n",
       "      <td>48</td>\n",
       "      <td>78</td>\n",
       "      <td>353</td>\n",
       "    </tr>\n",
       "    <tr>\n",
       "      <th>5553</th>\n",
       "      <td>9907907</td>\n",
       "      <td>0</td>\n",
       "      <td>0</td>\n",
       "      <td>0</td>\n",
       "      <td>0</td>\n",
       "    </tr>\n",
       "    <tr>\n",
       "      <th>5554</th>\n",
       "      <td>9936016</td>\n",
       "      <td>0</td>\n",
       "      <td>0</td>\n",
       "      <td>0</td>\n",
       "      <td>0</td>\n",
       "    </tr>\n",
       "  </tbody>\n",
       "</table>\n",
       "<p>5555 rows × 5 columns</p>\n",
       "</div>"
      ],
      "text/plain": [
       "           _id  availability_30  availability_60  availability_90  \\\n",
       "0      1003530                0                0                0   \n",
       "1     10133554               30               60               90   \n",
       "2     10059872                0                0                0   \n",
       "3     10084023               14               24               40   \n",
       "4     10091713                0                0                0   \n",
       "...        ...              ...              ...              ...   \n",
       "5550   9985696               30               60               90   \n",
       "5551   9993190                0                8               31   \n",
       "5552   9887054               18               48               78   \n",
       "5553   9907907                0                0                0   \n",
       "5554   9936016                0                0                0   \n",
       "\n",
       "      availability_365  \n",
       "0                   93  \n",
       "1                  365  \n",
       "2                    0  \n",
       "3                  220  \n",
       "4                    0  \n",
       "...                ...  \n",
       "5550               365  \n",
       "5551               258  \n",
       "5552               353  \n",
       "5553                 0  \n",
       "5554                 0  \n",
       "\n",
       "[5555 rows x 5 columns]"
      ]
     },
     "execution_count": 47,
     "metadata": {},
     "output_type": "execute_result"
    }
   ],
   "source": [
    "df_availabilty"
   ]
  },
  {
   "cell_type": "code",
   "execution_count": 48,
   "id": "e87e1f8e-fc43-477d-ba38-08c4952575d9",
   "metadata": {},
   "outputs": [
    {
     "data": {
      "text/plain": [
       "_id                 0\n",
       "availability_30     0\n",
       "availability_60     0\n",
       "availability_90     0\n",
       "availability_365    0\n",
       "dtype: int64"
      ]
     },
     "execution_count": 48,
     "metadata": {},
     "output_type": "execute_result"
    }
   ],
   "source": [
    "df_availabilty.isnull().sum()"
   ]
  },
  {
   "cell_type": "code",
   "execution_count": 49,
   "id": "e537b502-4391-4bd4-80d1-328ab4a51b2e",
   "metadata": {},
   "outputs": [
    {
     "data": {
      "text/plain": [
       "_id                 object\n",
       "availability_30      int64\n",
       "availability_60      int64\n",
       "availability_90      int64\n",
       "availability_365     int64\n",
       "dtype: object"
      ]
     },
     "execution_count": 49,
     "metadata": {},
     "output_type": "execute_result"
    }
   ],
   "source": [
    "df_availabilty.dtypes"
   ]
  },
  {
   "cell_type": "markdown",
   "id": "b2043b05-b119-4d5f-8d52-970e96e0ab8d",
   "metadata": {},
   "source": [
    "### Amenities details"
   ]
  },
  {
   "cell_type": "code",
   "execution_count": 52,
   "id": "d328d7b6-560a-4486-8430-cc5da473fd60",
   "metadata": {},
   "outputs": [
    {
     "data": {
      "text/html": [
       "<div>\n",
       "<style scoped>\n",
       "    .dataframe tbody tr th:only-of-type {\n",
       "        vertical-align: middle;\n",
       "    }\n",
       "\n",
       "    .dataframe tbody tr th {\n",
       "        vertical-align: top;\n",
       "    }\n",
       "\n",
       "    .dataframe thead th {\n",
       "        text-align: right;\n",
       "    }\n",
       "</style>\n",
       "<table border=\"1\" class=\"dataframe\">\n",
       "  <thead>\n",
       "    <tr style=\"text-align: right;\">\n",
       "      <th></th>\n",
       "      <th>_id</th>\n",
       "      <th>amenities</th>\n",
       "    </tr>\n",
       "  </thead>\n",
       "  <tbody>\n",
       "    <tr>\n",
       "      <th>0</th>\n",
       "      <td>1003530</td>\n",
       "      <td>[Internet, Wifi, Air conditioning, Kitchen, El...</td>\n",
       "    </tr>\n",
       "    <tr>\n",
       "      <th>1</th>\n",
       "      <td>10133554</td>\n",
       "      <td>[Internet, Wifi, Air conditioning, Free parkin...</td>\n",
       "    </tr>\n",
       "    <tr>\n",
       "      <th>2</th>\n",
       "      <td>10059872</td>\n",
       "      <td>[Air conditioning, Kitchen, Smoking allowed, D...</td>\n",
       "    </tr>\n",
       "    <tr>\n",
       "      <th>3</th>\n",
       "      <td>10084023</td>\n",
       "      <td>[TV, Wifi, Air conditioning, Kitchen, Elevator...</td>\n",
       "    </tr>\n",
       "    <tr>\n",
       "      <th>4</th>\n",
       "      <td>10091713</td>\n",
       "      <td>[TV, Wifi, Kitchen, Elevator, Heating, Washer,...</td>\n",
       "    </tr>\n",
       "    <tr>\n",
       "      <th>...</th>\n",
       "      <td>...</td>\n",
       "      <td>...</td>\n",
       "    </tr>\n",
       "    <tr>\n",
       "      <th>5550</th>\n",
       "      <td>9985696</td>\n",
       "      <td>[TV, Cable TV, Internet, Wifi, Kitchen, Buzzer...</td>\n",
       "    </tr>\n",
       "    <tr>\n",
       "      <th>5551</th>\n",
       "      <td>9993190</td>\n",
       "      <td>[TV, Wifi, Air conditioning, Pool, Kitchen, Fr...</td>\n",
       "    </tr>\n",
       "    <tr>\n",
       "      <th>5552</th>\n",
       "      <td>9887054</td>\n",
       "      <td>[TV, Wifi, Air conditioning, Kitchen, Elevator...</td>\n",
       "    </tr>\n",
       "    <tr>\n",
       "      <th>5553</th>\n",
       "      <td>9907907</td>\n",
       "      <td>[TV, Internet, Wifi, Kitchen, Washer, Dryer, S...</td>\n",
       "    </tr>\n",
       "    <tr>\n",
       "      <th>5554</th>\n",
       "      <td>9936016</td>\n",
       "      <td>[TV, Cable TV, Internet, Wifi, Air conditionin...</td>\n",
       "    </tr>\n",
       "  </tbody>\n",
       "</table>\n",
       "<p>5555 rows × 2 columns</p>\n",
       "</div>"
      ],
      "text/plain": [
       "           _id                                          amenities\n",
       "0      1003530  [Internet, Wifi, Air conditioning, Kitchen, El...\n",
       "1     10133554  [Internet, Wifi, Air conditioning, Free parkin...\n",
       "2     10059872  [Air conditioning, Kitchen, Smoking allowed, D...\n",
       "3     10084023  [TV, Wifi, Air conditioning, Kitchen, Elevator...\n",
       "4     10091713  [TV, Wifi, Kitchen, Elevator, Heating, Washer,...\n",
       "...        ...                                                ...\n",
       "5550   9985696  [TV, Cable TV, Internet, Wifi, Kitchen, Buzzer...\n",
       "5551   9993190  [TV, Wifi, Air conditioning, Pool, Kitchen, Fr...\n",
       "5552   9887054  [TV, Wifi, Air conditioning, Kitchen, Elevator...\n",
       "5553   9907907  [TV, Internet, Wifi, Kitchen, Washer, Dryer, S...\n",
       "5554   9936016  [TV, Cable TV, Internet, Wifi, Air conditionin...\n",
       "\n",
       "[5555 rows x 2 columns]"
      ]
     },
     "execution_count": 52,
     "metadata": {},
     "output_type": "execute_result"
    }
   ],
   "source": [
    "df2"
   ]
  },
  {
   "cell_type": "code",
   "execution_count": 53,
   "id": "d46acfda-0f4e-43d2-a417-030a3cae5729",
   "metadata": {},
   "outputs": [
    {
     "data": {
      "text/plain": [
       "_id          0\n",
       "amenities    0\n",
       "dtype: int64"
      ]
     },
     "execution_count": 53,
     "metadata": {},
     "output_type": "execute_result"
    }
   ],
   "source": [
    "df2.isnull().sum()"
   ]
  },
  {
   "cell_type": "markdown",
   "id": "8b731630-c3fd-4139-90a0-a45f269385be",
   "metadata": {},
   "source": [
    "#### Merging all the dataframes"
   ]
  },
  {
   "cell_type": "code",
   "execution_count": 54,
   "id": "3359187e-8185-4317-9e3f-48495eab76a9",
   "metadata": {},
   "outputs": [],
   "source": [
    "df=pd.merge(df1, df_host, on=\"_id\")\n",
    "df=pd.merge(df, df_address, on=\"_id\")\n",
    "df=pd.merge(df, df_availabilty, on=\"_id\")\n",
    "df=pd.merge(df, df2, on=\"_id\")"
   ]
  },
  {
   "cell_type": "code",
   "execution_count": 56,
   "id": "54a14bfc-b109-4476-b809-c97fd672b672",
   "metadata": {},
   "outputs": [
    {
     "data": {
      "text/html": [
       "<div>\n",
       "<style scoped>\n",
       "    .dataframe tbody tr th:only-of-type {\n",
       "        vertical-align: middle;\n",
       "    }\n",
       "\n",
       "    .dataframe tbody tr th {\n",
       "        vertical-align: top;\n",
       "    }\n",
       "\n",
       "    .dataframe thead th {\n",
       "        text-align: right;\n",
       "    }\n",
       "</style>\n",
       "<table border=\"1\" class=\"dataframe\">\n",
       "  <thead>\n",
       "    <tr style=\"text-align: right;\">\n",
       "      <th></th>\n",
       "      <th>_id</th>\n",
       "      <th>listing_url</th>\n",
       "      <th>name</th>\n",
       "      <th>property_type</th>\n",
       "      <th>room_type</th>\n",
       "      <th>bed_type</th>\n",
       "      <th>minimum_nights</th>\n",
       "      <th>maximum_nights</th>\n",
       "      <th>cancellation_policy</th>\n",
       "      <th>accommodates</th>\n",
       "      <th>...</th>\n",
       "      <th>country_code</th>\n",
       "      <th>location_type</th>\n",
       "      <th>longitude</th>\n",
       "      <th>lattitude</th>\n",
       "      <th>is_location_exact</th>\n",
       "      <th>availability_30</th>\n",
       "      <th>availability_60</th>\n",
       "      <th>availability_90</th>\n",
       "      <th>availability_365</th>\n",
       "      <th>amenities</th>\n",
       "    </tr>\n",
       "  </thead>\n",
       "  <tbody>\n",
       "    <tr>\n",
       "      <th>0</th>\n",
       "      <td>1003530</td>\n",
       "      <td>https://www.airbnb.com/rooms/1003530</td>\n",
       "      <td>New York City - Upper West Side Apt</td>\n",
       "      <td>Apartment</td>\n",
       "      <td>Private room</td>\n",
       "      <td>Real Bed</td>\n",
       "      <td>12</td>\n",
       "      <td>360</td>\n",
       "      <td>strict_14_with_grace_period</td>\n",
       "      <td>2</td>\n",
       "      <td>...</td>\n",
       "      <td>US</td>\n",
       "      <td>Point</td>\n",
       "      <td>-73.96523</td>\n",
       "      <td>40.79962</td>\n",
       "      <td>No</td>\n",
       "      <td>0</td>\n",
       "      <td>0</td>\n",
       "      <td>0</td>\n",
       "      <td>93</td>\n",
       "      <td>[Internet, Wifi, Air conditioning, Kitchen, El...</td>\n",
       "    </tr>\n",
       "    <tr>\n",
       "      <th>1</th>\n",
       "      <td>10133554</td>\n",
       "      <td>https://www.airbnb.com/rooms/10133554</td>\n",
       "      <td>Double and triple rooms Blue mosque</td>\n",
       "      <td>Bed and breakfast</td>\n",
       "      <td>Private room</td>\n",
       "      <td>Real Bed</td>\n",
       "      <td>1</td>\n",
       "      <td>1125</td>\n",
       "      <td>moderate</td>\n",
       "      <td>3</td>\n",
       "      <td>...</td>\n",
       "      <td>TR</td>\n",
       "      <td>Point</td>\n",
       "      <td>28.98009</td>\n",
       "      <td>41.00620</td>\n",
       "      <td>No</td>\n",
       "      <td>30</td>\n",
       "      <td>60</td>\n",
       "      <td>90</td>\n",
       "      <td>365</td>\n",
       "      <td>[Internet, Wifi, Air conditioning, Free parkin...</td>\n",
       "    </tr>\n",
       "    <tr>\n",
       "      <th>2</th>\n",
       "      <td>10059872</td>\n",
       "      <td>https://www.airbnb.com/rooms/10059872</td>\n",
       "      <td>Soho Cozy, Spacious and Convenient</td>\n",
       "      <td>Apartment</td>\n",
       "      <td>Entire home/apt</td>\n",
       "      <td>Real Bed</td>\n",
       "      <td>4</td>\n",
       "      <td>20</td>\n",
       "      <td>flexible</td>\n",
       "      <td>3</td>\n",
       "      <td>...</td>\n",
       "      <td>HK</td>\n",
       "      <td>Point</td>\n",
       "      <td>114.15027</td>\n",
       "      <td>22.28158</td>\n",
       "      <td>Yes</td>\n",
       "      <td>0</td>\n",
       "      <td>0</td>\n",
       "      <td>0</td>\n",
       "      <td>0</td>\n",
       "      <td>[Air conditioning, Kitchen, Smoking allowed, D...</td>\n",
       "    </tr>\n",
       "  </tbody>\n",
       "</table>\n",
       "<p>3 rows × 46 columns</p>\n",
       "</div>"
      ],
      "text/plain": [
       "        _id                            listing_url  \\\n",
       "0   1003530   https://www.airbnb.com/rooms/1003530   \n",
       "1  10133554  https://www.airbnb.com/rooms/10133554   \n",
       "2  10059872  https://www.airbnb.com/rooms/10059872   \n",
       "\n",
       "                                  name      property_type        room_type  \\\n",
       "0  New York City - Upper West Side Apt          Apartment     Private room   \n",
       "1  Double and triple rooms Blue mosque  Bed and breakfast     Private room   \n",
       "2   Soho Cozy, Spacious and Convenient          Apartment  Entire home/apt   \n",
       "\n",
       "   bed_type  minimum_nights  maximum_nights          cancellation_policy  \\\n",
       "0  Real Bed              12             360  strict_14_with_grace_period   \n",
       "1  Real Bed               1            1125                     moderate   \n",
       "2  Real Bed               4              20                     flexible   \n",
       "\n",
       "   accommodates  ...  country_code  location_type  longitude  lattitude  \\\n",
       "0             2  ...            US          Point  -73.96523   40.79962   \n",
       "1             3  ...            TR          Point   28.98009   41.00620   \n",
       "2             3  ...            HK          Point  114.15027   22.28158   \n",
       "\n",
       "   is_location_exact availability_30  availability_60  availability_90  \\\n",
       "0                 No               0                0                0   \n",
       "1                 No              30               60               90   \n",
       "2                Yes               0                0                0   \n",
       "\n",
       "  availability_365                                          amenities  \n",
       "0               93  [Internet, Wifi, Air conditioning, Kitchen, El...  \n",
       "1              365  [Internet, Wifi, Air conditioning, Free parkin...  \n",
       "2                0  [Air conditioning, Kitchen, Smoking allowed, D...  \n",
       "\n",
       "[3 rows x 46 columns]"
      ]
     },
     "execution_count": 56,
     "metadata": {},
     "output_type": "execute_result"
    }
   ],
   "source": [
    "df.head(3)"
   ]
  },
  {
   "cell_type": "code",
   "execution_count": 57,
   "id": "f6f67c6d-9a09-4b42-8db9-419590263049",
   "metadata": {},
   "outputs": [],
   "source": [
    "df.to_csv(\"Airbnb.csv\", index= False)"
   ]
  },
  {
   "cell_type": "code",
   "execution_count": null,
   "id": "1cfc420d-8a24-407f-8066-a7f81f50262e",
   "metadata": {},
   "outputs": [],
   "source": []
  },
  {
   "cell_type": "code",
   "execution_count": null,
   "id": "dcc600fd-2409-4edb-90c2-6bc9152b355a",
   "metadata": {},
   "outputs": [],
   "source": []
  },
  {
   "cell_type": "code",
   "execution_count": null,
   "id": "4c9e2eaf-3894-4a4a-845d-5cce91666dbb",
   "metadata": {},
   "outputs": [],
   "source": []
  },
  {
   "cell_type": "code",
   "execution_count": null,
   "id": "166fc7c8-35ff-46f0-b175-a5b75814c40d",
   "metadata": {},
   "outputs": [],
   "source": []
  },
  {
   "cell_type": "code",
   "execution_count": null,
   "id": "c1b58f11-59c3-44ee-bdc4-e51581dc272a",
   "metadata": {},
   "outputs": [],
   "source": []
  },
  {
   "cell_type": "code",
   "execution_count": null,
   "id": "1cd1efb7-33c5-48e5-9b4f-2b968e6452ee",
   "metadata": {},
   "outputs": [],
   "source": []
  },
  {
   "cell_type": "code",
   "execution_count": null,
   "id": "7b5d97d7-ad5b-4e20-be6e-349ec8af12c5",
   "metadata": {},
   "outputs": [],
   "source": []
  },
  {
   "cell_type": "code",
   "execution_count": null,
   "id": "d87fc0c4-7784-4d83-9853-3a4b3cb87e11",
   "metadata": {},
   "outputs": [],
   "source": []
  },
  {
   "cell_type": "code",
   "execution_count": null,
   "id": "ad941e6f-54ed-416c-a847-55b1ad646cb7",
   "metadata": {},
   "outputs": [],
   "source": []
  },
  {
   "cell_type": "code",
   "execution_count": null,
   "id": "069e8973-219c-498b-a37d-43eebebf6b40",
   "metadata": {},
   "outputs": [],
   "source": []
  },
  {
   "cell_type": "code",
   "execution_count": null,
   "id": "d7f11c10-a092-43b6-a822-540dfd45b024",
   "metadata": {},
   "outputs": [],
   "source": []
  },
  {
   "cell_type": "code",
   "execution_count": null,
   "id": "8ba60812-854d-432a-80aa-41e4aa4b71ec",
   "metadata": {},
   "outputs": [],
   "source": []
  },
  {
   "cell_type": "code",
   "execution_count": null,
   "id": "269bb681-b1e5-4887-964b-ee7d371afa46",
   "metadata": {},
   "outputs": [],
   "source": []
  }
 ],
 "metadata": {
  "kernelspec": {
   "display_name": "Python 3 (ipykernel)",
   "language": "python",
   "name": "python3"
  },
  "language_info": {
   "codemirror_mode": {
    "name": "ipython",
    "version": 3
   },
   "file_extension": ".py",
   "mimetype": "text/x-python",
   "name": "python",
   "nbconvert_exporter": "python",
   "pygments_lexer": "ipython3",
   "version": "3.11.7"
  }
 },
 "nbformat": 4,
 "nbformat_minor": 5
}
